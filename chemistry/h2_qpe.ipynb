{
 "cells": [
  {
   "cell_type": "markdown",
   "metadata": {},
   "source": [
    "## _*H2 ground state energy computation using Quantum Phase Estimation*_\n",
    "\n",
    "This notebook demonstrates using Qiskit Chemistry to compute ground state energy of the Hydrogen (H2) molecule using QPE (Quantum Phase Estimation) algorithm. Let's first look at how to carry out such computation programmatically. Afterwards, we will illustrate how the computation can also be carried out using json configuration dictionaries.\n",
    "\n",
    "This notebook has been written to use the PYSCF chemistry driver."
   ]
  },
  {
   "cell_type": "markdown",
   "metadata": {},
   "source": [
    "We first set up the H2 molecule, create the fermionic and in turn the qubit operator using PySCF."
   ]
  },
  {
   "cell_type": "code",
   "execution_count": 1,
   "metadata": {},
   "outputs": [],
   "source": [
    "from collections import OrderedDict\n",
    "import time\n",
    "\n",
    "from qiskit import BasicAer\n",
    "from qiskit.transpiler import PassManager\n",
    "from qiskit.aqua import AquaError\n",
    "from qiskit.aqua import QuantumInstance\n",
    "from qiskit.aqua.operators import Z2Symmetries\n",
    "from qiskit.aqua.operators.op_converter import to_weighted_pauli_operator\n",
    "from qiskit.aqua.algorithms import ExactEigensolver\n",
    "from qiskit.aqua.algorithms import QPE\n",
    "from qiskit.aqua.components.iqfts import Standard\n",
    "from qiskit.chemistry import FermionicOperator\n",
    "from qiskit.chemistry import QiskitChemistry\n",
    "from qiskit.chemistry.aqua_extensions.components.initial_states import HartreeFock\n",
    "from qiskit.chemistry.drivers import PySCFDriver, UnitsType\n",
    "\n",
    "distance = 0.735\n",
    "driver = PySCFDriver(atom='H .0 .0 .0; H .0 .0 {}'.format(distance),\n",
    "                     unit=UnitsType.ANGSTROM, charge=0, spin=0, basis='sto3g')\n",
    "molecule = driver.run()\n",
    "\n",
    "qubit_mapping = 'parity'\n",
    "fer_op = FermionicOperator(h1=molecule.one_body_integrals, h2=molecule.two_body_integrals)\n",
    "qubit_op = Z2Symmetries.two_qubit_reduction(to_weighted_pauli_operator(fer_op.mapping(map_type=qubit_mapping, threshold=1e-10)), 2)"
   ]
  },
  {
   "cell_type": "markdown",
   "metadata": {},
   "source": [
    "Using a classical exact eigenvalue solver, we can establish the reference groundtruth value of the ground state energy:"
   ]
  },
  {
   "cell_type": "code",
   "execution_count": 2,
   "metadata": {},
   "outputs": [
    {
     "name": "stdout",
     "output_type": "stream",
     "text": [
      "The exact ground state energy is: -1.8572750302023802\n"
     ]
    }
   ],
   "source": [
    "exact_eigensolver = ExactEigensolver(qubit_op, k=1)\n",
    "result_ee = exact_eigensolver.run()\n",
    "reference_energy = result_ee['energy']\n",
    "print('The exact ground state energy is: {}'.format(result_ee['energy']))"
   ]
  },
  {
   "cell_type": "markdown",
   "metadata": {},
   "source": [
    "Next we set up the QPE algorithm instance using the HartreeFock initial state and a standard inverse quantum fourier transform, and execute:"
   ]
  },
  {
   "cell_type": "code",
   "execution_count": 3,
   "metadata": {},
   "outputs": [
    {
     "name": "stdout",
     "output_type": "stream",
     "text": [
      "The ground state energy as computed by QPE is: -1.8571368753258861\n"
     ]
    }
   ],
   "source": [
    "num_particles = molecule.num_alpha + molecule.num_beta\n",
    "two_qubit_reduction = True\n",
    "num_orbitals = qubit_op.num_qubits + (2 if two_qubit_reduction else 0)\n",
    "\n",
    "num_time_slices = 1\n",
    "n_ancillae = 9\n",
    "\n",
    "state_in = HartreeFock(qubit_op.num_qubits, num_orbitals,\n",
    "                       num_particles, qubit_mapping, two_qubit_reduction)\n",
    "iqft = Standard(n_ancillae)\n",
    "\n",
    "qpe = QPE(qubit_op, state_in, iqft, num_time_slices, n_ancillae,\n",
    "          expansion_mode='suzuki',\n",
    "          expansion_order=2, shallow_circuit_concat=True)\n",
    "backend = BasicAer.get_backend('qasm_simulator')\n",
    "quantum_instance = QuantumInstance(backend, shots=100)\n",
    "result_qpe = qpe.run(quantum_instance)\n",
    "print('The ground state energy as computed by QPE is: {}'.format(result_qpe['energy']))"
   ]
  },
  {
   "cell_type": "markdown",
   "metadata": {},
   "source": [
    "As can be easily seen, the QPE computed energy is quite close to the groundtruth value we computed earlier.\n",
    "\n",
    "Next we demonstrate how the same computation can be carried out using json dictionaries to drive the qiskit.chemistry stack. Such a dictionary can of course also be manipulated programmatically. An sibling notebook `h2_iqpe` is also provided, which showcases how the ground state energies over a range of inter-atomic distances can be computed and then plotted as well."
   ]
  },
  {
   "cell_type": "code",
   "execution_count": 4,
   "metadata": {},
   "outputs": [],
   "source": [
    "molecule = 'H .0 .0 0; H .0 .0 {}'.format(distance)\n",
    "\n",
    "# Input dictionary to configure Qiskit Chemistry for the chemistry problem.\n",
    "qiskit_chemistry_qpe_dict = {\n",
    "    'driver': {'name': 'PYSCF'},\n",
    "    'PYSCF': {\n",
    "        'atom': molecule, \n",
    "        'basis': 'sto3g'\n",
    "    },\n",
    "    'operator': {'name': 'hamiltonian', 'transformation': 'full', 'qubit_mapping': 'parity'},\n",
    "    'algorithm': {\n",
    "        'name': 'QPE',\n",
    "        'num_ancillae': 9,\n",
    "        'num_time_slices': 1,\n",
    "        'expansion_mode': 'suzuki',\n",
    "        'expansion_order': 2,\n",
    "    },\n",
    "    'initial_state': {'name': 'HartreeFock'},\n",
    "    'backend': {'shots': 100}\n",
    "}\n",
    "\n",
    "qiskit_chemistry_ees_dict = {\n",
    "    'driver': {'name': 'PYSCF'},\n",
    "    'PYSCF': {'atom': molecule, 'basis': 'sto3g'},\n",
    "    'operator': {'name': 'hamiltonian', 'transformation': 'full', 'qubit_mapping': 'parity'},\n",
    "    'algorithm': {\n",
    "        'name': 'ExactEigensolver',\n",
    "    }\n",
    "}"
   ]
  },
  {
   "cell_type": "markdown",
   "metadata": {},
   "source": [
    "With the two algorithms configured, we can then run them and check the results, as follows."
   ]
  },
  {
   "cell_type": "code",
   "execution_count": 5,
   "metadata": {},
   "outputs": [
    {
     "name": "stdout",
     "output_type": "stream",
     "text": [
      "The groundtruth total ground state energy is           -1.8572750302023793.\n",
      "The total ground state energy as computed by QPE is    -1.8571368753258861.\n",
      "In comparison, the Hartree-Fock ground state energy is -1.8369679912029846.\n"
     ]
    }
   ],
   "source": [
    "result_qpe = QiskitChemistry().run(qiskit_chemistry_qpe_dict, backend=backend)\n",
    "result_ees = QiskitChemistry().run(qiskit_chemistry_ees_dict)\n",
    "\n",
    "print('The groundtruth total ground state energy is           {}.'.format(\n",
    "    result_ees['energy'] - result_ees['nuclear_repulsion_energy']\n",
    "))\n",
    "print('The total ground state energy as computed by QPE is    {}.'.format(\n",
    "    result_qpe['energy'] - result_qpe['nuclear_repulsion_energy']\n",
    "))\n",
    "print('In comparison, the Hartree-Fock ground state energy is {}.'.format(\n",
    "    result_ees['hf_energy'] - result_ees['nuclear_repulsion_energy']\n",
    "))"
   ]
  },
  {
   "cell_type": "code",
   "execution_count": null,
   "metadata": {},
   "outputs": [],
   "source": []
  }
 ],
 "metadata": {
  "kernelspec": {
   "display_name": "Python 3",
   "language": "python",
   "name": "python3"
  },
  "language_info": {
   "codemirror_mode": {
    "name": "ipython",
    "version": 3
   },
   "file_extension": ".py",
   "mimetype": "text/x-python",
   "name": "python",
   "nbconvert_exporter": "python",
   "pygments_lexer": "ipython3",
   "version": "3.6.8"
  }
 },
 "nbformat": 4,
 "nbformat_minor": 1
}
