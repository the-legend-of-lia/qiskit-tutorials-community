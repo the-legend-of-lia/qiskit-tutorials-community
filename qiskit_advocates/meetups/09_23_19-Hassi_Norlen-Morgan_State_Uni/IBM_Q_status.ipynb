{
 "cells": [
  {
   "cell_type": "markdown",
   "metadata": {
    "slideshow": {
     "slide_type": "slide"
    }
   },
   "source": [
    "#  IBM Q Status"
   ]
  },
  {
   "cell_type": "code",
   "execution_count": null,
   "metadata": {
    "slideshow": {
     "slide_type": "fragment"
    }
   },
   "outputs": [],
   "source": [
    "from qiskit import IBMQ\n",
    "\n",
    "IBMQ.load_account()\n",
    "provider = IBMQ.get_provider()\n",
    "\n",
    "# Get all available and operational backends.\n",
    "available_backends = provider.backends(operational=True)\n",
    "\n",
    "# Fish out criteria to compare\n",
    "print(\"{0:20} {1:<10} {2:<10} \".format(\"Name\",\"#Qubits\",\"Pending jobs\"))\n",
    "print(\"{0:20} {1:<10} {2:<10} \".format(\"++++\",\"+++++++\",\"++++++++++++\"))\n",
    "\n",
    "for n in range(0, len(available_backends)):\n",
    "    available_backend = provider.get_backend(str(available_backends[n]))\n",
    "    print(\"{0:20} {1:<10} {2:<10}\"\n",
    "          .format(available_backend.name(), \n",
    "                    available_backend.configuration().n_qubits,\n",
    "                    available_backend.status().pending_jobs))\n",
    "    \n",
    "    "
   ]
  },
  {
   "cell_type": "code",
   "execution_count": null,
   "metadata": {},
   "outputs": [],
   "source": []
  }
 ],
 "metadata": {
  "celltoolbar": "Slideshow",
  "kernelspec": {
   "display_name": "Python 3",
   "language": "python",
   "name": "python3"
  },
  "language_info": {
   "codemirror_mode": {
    "name": "ipython",
    "version": 3
   },
   "file_extension": ".py",
   "mimetype": "text/x-python",
   "name": "python",
   "nbconvert_exporter": "python",
   "pygments_lexer": "ipython3",
   "version": "3.7.3"
  }
 },
 "nbformat": 4,
 "nbformat_minor": 2
}
