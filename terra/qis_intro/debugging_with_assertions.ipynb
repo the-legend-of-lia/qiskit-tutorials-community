{
 "cells": [
  {
   "cell_type": "markdown",
   "metadata": {},
   "source": [
    "<img src=\"../../../images/qiskit-heading.gif\" alt=\"Note: In order for images to show up in this jupyter notebook you need to select File => Trusted Notebook\" width=\"500 px\" align=\"left\">"
   ]
  },
  {
   "cell_type": "markdown",
   "metadata": {},
   "source": [
    "## _Debugging with Assertions_ \n",
    "\n",
    "\n",
    "The latest version of this notebook is available on: \n",
    "\n",
    "***\n",
    "### Contributors\n",
    "Emma Dasgupta, Lia Yeh\n",
    "\n",
    "### Qiskit Package Versions"
   ]
  },
  {
   "cell_type": "code",
   "execution_count": 1,
   "metadata": {},
   "outputs": [
    {
     "data": {
      "text/plain": [
       "{'qiskit-terra': '0.9.0.dev0+3bd8cb5',\n",
       " 'qiskit-ignis': '0.2.0.dev0+7d28711',\n",
       " 'qiskit-ibmq-provider': 'dev-1d446af2456c039aa9337e9e9ad05ea4630392af',\n",
       " 'qiskit': None,\n",
       " 'qiskit-aer': '0.3.0',\n",
       " 'qiskit-aqua': None}"
      ]
     },
     "execution_count": 1,
     "metadata": {},
     "output_type": "execute_result"
    }
   ],
   "source": [
    "import qiskit\n",
    "qiskit.__qiskit_version__"
   ]
  },
  {
   "cell_type": "markdown",
   "metadata": {},
   "source": [
    "## Introduction\n",
    "Once a quantum program has been written, it is important to check if it is correct. However, debugging quantum programs can be difficult because classical debugging approaches such as using print statements will not work since measurement disturbs state.\n",
    "\n",
    "Using quantum assertions is a useful method for debugging quantum programs. This method allows us to put breakpoints at points in a program where we expect certain qubits to be in a certain state (for example, a classical state, a uniform superposition state, or a product state). Next, we can use statistical tests to check if the qubits are actually in the expected states.\n",
    "\n",
    "Currently, we support assertions of classical states, uniform superposition states, product states, and the negation of each of these. "
   ]
  },
  {
   "cell_type": "code",
   "execution_count": 2,
   "metadata": {
    "ExecuteTime": {
     "end_time": "2018-09-29T01:21:10.790300Z",
     "start_time": "2018-09-29T01:21:10.782117Z"
    }
   },
   "outputs": [],
   "source": [
    "# useful additional packages\n",
    "import math\n",
    "import matplotlib.pyplot as plt\n",
    "%matplotlib inline\n",
    "import numpy as np\n",
    "\n",
    "# importing Qiskit\n",
    "from qiskit import QuantumCircuit, QuantumRegister, ClassicalRegister, execute\n",
    "from qiskit import BasicAer, IBMQ\n",
    "\n",
    "# import basic plot tools\n",
    "from qiskit.tools.visualization import plot_histogram"
   ]
  },
  {
   "cell_type": "code",
   "execution_count": 3,
   "metadata": {
    "ExecuteTime": {
     "end_time": "2018-09-29T01:22:28.659863Z",
     "start_time": "2018-09-29T01:22:28.657315Z"
    }
   },
   "outputs": [],
   "source": [
    "backend = BasicAer.get_backend('qasm_simulator') # run on local simulator by default\n",
    "\n",
    "# Uncomment the following lines to run on a real device\n",
    "#IBMQ.load_accounts()\n",
    "#from qiskit.providers.ibmq import least_busy\n",
    "#backend = least_busy(IBMQ.backends(operational=True, simulator=False))\n",
    "#print(\"the best backend is \" + backend.name())"
   ]
  },
  {
   "cell_type": "markdown",
   "metadata": {},
   "source": [
    "## Bell State<a id='section1'></a>\n",
    "\n",
    "Suppose we want to make a circuit that creates a bell state. We can use assertions to check if our program does what we expect.\n",
    "\n",
    "First, we make an empty list to store all our breakpoints throughout the program. (This is useful if you later have multiple breakpoints and want to comment some out easily.)"
   ]
  },
  {
   "cell_type": "code",
   "execution_count": 4,
   "metadata": {},
   "outputs": [],
   "source": [
    "breakpoints = []"
   ]
  },
  {
   "cell_type": "markdown",
   "metadata": {},
   "source": [
    "We now initialize a circuit and apply a Hadamard gate to qubit 0:"
   ]
  },
  {
   "cell_type": "code",
   "execution_count": 5,
   "metadata": {},
   "outputs": [
    {
     "data": {
      "text/plain": [
       "<qiskit.circuit.instructionset.InstructionSet at 0x1223c3f60>"
      ]
     },
     "execution_count": 5,
     "metadata": {},
     "output_type": "execute_result"
    }
   ],
   "source": [
    "#making circuit: bell state\n",
    "qc = QuantumCircuit(2, 2)\n",
    "qc.h(0)"
   ]
  },
  {
   "cell_type": "markdown",
   "metadata": {},
   "source": [
    "Note that at this point in the program we expect qubit 1 and 0 to be in a product state. (Not entangled.)\n",
    "\n"
   ]
  },
  {
   "cell_type": "code",
   "execution_count": 6,
   "metadata": {
    "scrolled": true
   },
   "outputs": [],
   "source": [
    "breakpoints.append(qc.get_breakpoint_product(0, 0, 1, 1, 0.05))"
   ]
  },
  {
   "cell_type": "markdown",
   "metadata": {},
   "source": [
    "Here, the first four inputs are qubit 0, cbit 0, qubit 1, cbit 1, indicating that we are asserting that qubit 0 and qubit 1 are in a product state, and we are storing our measurements of qubit 0 on cbit 0 and qubit 1 on cbit 1. The last argument is optional and represents the critical p-value that determines whether the statistical tests underlying this quantum assertion will pass or fail (default 0.05).\n",
    "\n",
    "The breakpoint creates a copy of the quantum circuit up to this point with measurement operations at the end as visualized below. This will later be run on the backend to get an intermediate measurement distribution used for statistical tests to evaluate our assertion."
   ]
  },
  {
   "cell_type": "code",
   "execution_count": 7,
   "metadata": {},
   "outputs": [
    {
     "data": {
      "image/png": "[encoded data removed]",
      "text/plain": [
       "<Figure size 270.9x258.86 with 1 Axes>"
      ]
     },
     "execution_count": 7,
     "metadata": {},
     "output_type": "execute_result"
    }
   ],
   "source": [
    "breakpoints[0].draw(output=\"mpl\")"
   ]
  },
  {
   "cell_type": "markdown",
   "metadata": {},
   "source": [
    "Our new breakpoint has now been added to the list of breakpoints and we can finish writing our program:"
   ]
  },
  {
   "cell_type": "code",
   "execution_count": 8,
   "metadata": {},
   "outputs": [
    {
     "data": {
      "text/plain": [
       "<qiskit.circuit.instructionset.InstructionSet at 0x1226202e8>"
      ]
     },
     "execution_count": 8,
     "metadata": {},
     "output_type": "execute_result"
    }
   ],
   "source": [
    "qc.cx(0, 1)\n",
    "qc.measure([0,1], [0,1])"
   ]
  },
  {
   "cell_type": "markdown",
   "metadata": {},
   "source": [
    "When executing the circuit, we add in the list of breakpoints to be executed as well:"
   ]
  },
  {
   "cell_type": "code",
   "execution_count": 9,
   "metadata": {},
   "outputs": [],
   "source": [
    "# running the job, printing results\n",
    "job_sim = execute(breakpoints + [qc], backend) #execute all breakpoints as well as the main quantum circuit\n",
    "sim_result = job_sim.result()                  #obtain results object as before"
   ]
  },
  {
   "cell_type": "markdown",
   "metadata": {},
   "source": [
    "Now using a classical Python assertion, we can check if our breakpoint passed the assertion of a uniform superposition state."
   ]
  },
  {
   "cell_type": "code",
   "execution_count": 10,
   "metadata": {},
   "outputs": [],
   "source": [
    "assert(sim_result.get_assertion_passed(breakpoints[0]))"
   ]
  },
  {
   "cell_type": "markdown",
   "metadata": {},
   "source": [
    "If the assertion passes, then the program will continue running. If the assertion fails, the program will stop with an assertion error.\n",
    "\n",
    "Since our assertion passes, we conclude that we did not make an error in creating the state at the breakpoint.\n",
    "\n",
    "You can access the p-value, chi squared statistic and whether or not a test passed for the statistical test within each assertion as well:"
   ]
  },
  {
   "cell_type": "code",
   "execution_count": 15,
   "metadata": {},
   "outputs": [
    {
     "name": "stdout",
     "output_type": "stream",
     "text": [
      "breakpoint0 pval =\n",
      "\n",
      "breakpoint0 chisq =\n",
      "\n",
      "breakpoint0 passed?\n"
     ]
    }
   ],
   "source": [
    "print(\"breakpoint0 pval =\")\n",
    "\n",
    "print(\"\\n\"+ \"breakpoint0 chisq =\")\n",
    "\n",
    "print(\"\\n\"+\"breakpoint0 passed?\")"
   ]
  },
  {
   "cell_type": "markdown",
   "metadata": {},
   "source": [
    "As before, we can still draw our original circuit and view its results. (Breakpoints not shown.)"
   ]
  },
  {
   "cell_type": "code",
   "execution_count": null,
   "metadata": {
    "scrolled": true
   },
   "outputs": [],
   "source": [
    "qc.draw(output=\"mpl\")"
   ]
  },
  {
   "cell_type": "code",
   "execution_count": null,
   "metadata": {},
   "outputs": [],
   "source": [
    "plot_histogram(sim_result.get_counts(qc))"
   ]
  },
  {
   "cell_type": "markdown",
   "metadata": {},
   "source": [
    "We see that we have created a bell state. \n",
    "\n",
    "In a longer program, we could place breakpoints in the middle of a program after multiple instructions in a more useful manner to check if we have correctly implemented the gates in our circuit.\n"
   ]
  },
  {
   "cell_type": "markdown",
   "metadata": {},
   "source": [
    "## QFT<a id='section1'></a>\n",
    "\n",
    "Here is an example of using assertions in a quantum fourier transform circuit:"
   ]
  },
  {
   "cell_type": "markdown",
   "metadata": {},
   "source": [
    "Initialize breakpoints list:"
   ]
  },
  {
   "cell_type": "code",
   "execution_count": null,
   "metadata": {},
   "outputs": [],
   "source": [
    "breakpoints = []"
   ]
  },
  {
   "cell_type": "markdown",
   "metadata": {},
   "source": [
    "Continue writing the program:"
   ]
  },
  {
   "cell_type": "code",
   "execution_count": 14,
   "metadata": {},
   "outputs": [],
   "source": [
    "#make the qft\n",
    "def input_state(circ, n):\n",
    "    \"\"\"n-qubit input state for QFT that produces output 1.\"\"\"\n",
    "    for j in range(n):\n",
    "        circ.h(j)\n",
    "        circ.u1(-math.pi/float(2**(j)), j)\n",
    "\n",
    "def qft(circ, n):\n",
    "    \"\"\"n-qubit QFT on q in circ.\"\"\"\n",
    "    for j in range(n):\n",
    "        for k in range(j):\n",
    "            circ.cu1(math.pi/float(2**(j-k)), j, k)\n",
    "        circ.h(j)\n",
    "\n",
    "qft3 = QuantumCircuit(5, 5, name=\"qft3\")\n",
    "qft4 = QuantumCircuit(5, 5, name=\"qft4\")\n",
    "qft5 = QuantumCircuit(5, 5, name=\"qft5\")\n",
    "\n",
    "# Below, qft3 is a 3-qubit quantum circuit.\n",
    "input_state(qft3, 3) # Initializes the state so that post-QFT, the state should be 1."
   ]
  },
  {
   "cell_type": "markdown",
   "metadata": {},
   "source": [
    "Insert a breakpoint to the qft3 circuit after initializing the input state:"
   ]
  },
  {
   "cell_type": "code",
   "execution_count": null,
   "metadata": {},
   "outputs": [],
   "source": [
    "breakpoint1 = qft3.get_breakpoint_uniform(range(3), range(3), 0.05)"
   ]
  },
  {
   "cell_type": "markdown",
   "metadata": {},
   "source": [
    "This asserts that the 3 qubits are in uniform superposition, with critical p-value 0.05.\n",
    "\n",
    "Continue the program:"
   ]
  },
  {
   "cell_type": "code",
   "execution_count": null,
   "metadata": {},
   "outputs": [],
   "source": [
    "qft3.barrier()\n",
    "qft(qft3, 3)\n",
    "qft3.barrier()"
   ]
  },
  {
   "cell_type": "markdown",
   "metadata": {},
   "source": [
    "Insert a breakpoint after the quantum Fourier Transform has been performed:"
   ]
  },
  {
   "cell_type": "code",
   "execution_count": null,
   "metadata": {},
   "outputs": [],
   "source": [
    "breakpoint2 = qft3.get_breakpoint_classical(range(3), range(3), 0.05, 1)"
   ]
  },
  {
   "cell_type": "markdown",
   "metadata": {},
   "source": [
    "This asserts that the 3 qubits are a classical value of 1, with critical p-value 0.05.\n",
    "\n",
    "Continuing, we measure necessary qubits before calling execute:"
   ]
  },
  {
   "cell_type": "code",
   "execution_count": null,
   "metadata": {},
   "outputs": [],
   "source": [
    "for j in range(3):\n",
    "    qft3.measure(j, j)\n",
    "\n",
    "input_state(qft4, 4)\n",
    "qft4.barrier()\n",
    "qft(qft4, 4)\n",
    "qft4.barrier()\n",
    "for j in range(4):\n",
    "    qft4.measure(j, j)\n",
    "\n",
    "input_state(qft5, 5)\n",
    "qft5.barrier()\n",
    "qft(qft5, 5)\n",
    "qft5.barrier()\n",
    "for j in range(5):\n",
    "    qft5.measure(j, j)"
   ]
  },
  {
   "cell_type": "markdown",
   "metadata": {},
   "source": [
    "Add the list of breakpoints to the circuits being run in execute:"
   ]
  },
  {
   "cell_type": "code",
   "execution_count": null,
   "metadata": {},
   "outputs": [],
   "source": [
    "# setting up the backend, running the breakpoint and the job\n",
    "sim_backend = BasicAer.get_backend('qasm_simulator')\n",
    "job = execute(breakpoints + [qft3, qft4, qft5], sim_backend, shots=1024)\n",
    "result = job.result()"
   ]
  },
  {
   "cell_type": "markdown",
   "metadata": {},
   "source": [
    "We can now see the results of our assertions:"
   ]
  },
  {
   "cell_type": "code",
   "execution_count": null,
   "metadata": {},
   "outputs": [],
   "source": [
    "# Show the assertion\n",
    "breakpoints = [breakpoint1, breakpoint2]\n",
    "print()\n",
    "for breakpoint in breakpoints:\n",
    "    print(\"Results of our \" + result.get_assertion_type(breakpoint) + \" Assertion:\")\n",
    "    tup = result.get_assertion(breakpoint)\n",
    "    print('chisq = %s\\npval = %s\\npassed = %s\\n' % tuple(map(str,tup)))\n",
    "    assert ( result.get_assertion_passed(breakpoint) )"
   ]
  },
  {
   "cell_type": "markdown",
   "metadata": {},
   "source": [
    "As well as the outputs of our original quantum circuits:"
   ]
  },
  {
   "cell_type": "code",
   "execution_count": null,
   "metadata": {},
   "outputs": [],
   "source": [
    "# Show the results\n",
    "print(result.get_counts(qft3))\n",
    "print(result.get_counts(qft4))\n",
    "print(result.get_counts(qft5))"
   ]
  },
  {
   "cell_type": "code",
   "execution_count": null,
   "metadata": {},
   "outputs": [],
   "source": []
  },
  {
   "cell_type": "code",
   "execution_count": null,
   "metadata": {},
   "outputs": [],
   "source": []
  },
  {
   "cell_type": "code",
   "execution_count": null,
   "metadata": {},
   "outputs": [],
   "source": []
  }
 ],
 "metadata": {
  "anaconda-cloud": {},
  "kernelspec": {
   "display_name": "Python 3",
   "language": "python",
   "name": "python3"
  },
  "language_info": {
   "codemirror_mode": {
    "name": "ipython",
    "version": 3
   },
   "file_extension": ".py",
   "mimetype": "text/x-python",
   "name": "python",
   "nbconvert_exporter": "python",
   "pygments_lexer": "ipython3",
   "version": "3.7.3"
  }
 },
 "nbformat": 4,
 "nbformat_minor": 1
}
