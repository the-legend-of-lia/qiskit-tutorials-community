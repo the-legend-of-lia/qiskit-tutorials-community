{
 "cells": [
  {
   "cell_type": "markdown",
   "metadata": {},
   "source": [
    "<img src=\"https://raw.githubusercontent.com/Qiskit/qiskit-tutorials/master/images/qiskit-heading.png\" alt=\"Note: In order for images to show up in this jupyter notebook you need to select File => Trusted Notebook\" width=\"500 px\" align=\"left\">"
   ]
  },
  {
   "cell_type": "markdown",
   "metadata": {},
   "source": [
    "## _*Single-qubit Quantum Random Access Coding (QRAC)*_ \n",
    "\n",
    "The latest version of this notebook is available on https://github.com/QISKit/qiskit-tutorial.\n",
    "\n",
    "***\n",
    "### Contributors\n",
    "Rudy Raymond, Takashi Imamichi\n",
    "\n",
    "### Qiskit Package Versions"
   ]
  },
  {
   "cell_type": "code",
   "execution_count": 1,
   "metadata": {},
   "outputs": [
    {
     "data": {
      "text/plain": [
       "{'qiskit': '0.10.3',\n",
       " 'qiskit-terra': '0.8.1',\n",
       " 'qiskit-ignis': '0.1.1',\n",
       " 'qiskit-aer': '0.2.1',\n",
       " 'qiskit-ibmq-provider': '0.2.2',\n",
       " 'qiskit-aqua': '0.5.1'}"
      ]
     },
     "execution_count": 1,
     "metadata": {},
     "output_type": "execute_result"
    }
   ],
   "source": [
    "import qiskit\n",
    "qiskit.__qiskit_version__"
   ]
  },
  {
   "cell_type": "markdown",
   "metadata": {},
   "source": [
    "## Introduction\n",
    "\n",
    "Random Access Coding (RAC) is one of few examples where a small number of quantum bits can exhibit properties that cannot be achieved by the same amount of classical bits. To demonstrate the power of Quantum RAC with a single qubit, consider a case where the sender, say, Alice, wants to encode $n$ bits of information into a qubit. The qubit is then sent to the receiver, say, Bob, who will decode it to obtain one bit (out of $n$ bits sent by Alice) of his choice (which is unknown to Alice). It is known that there is no way for Alice to encode her $2$ bits into one classical bit so that Bob can then recover any bit with success probability better than half. \n",
    "\n",
    "On the other hand, with a single qubit it is possible to encode up to $3$ bits of information such that the receiver is quaranteed to observe his choice of bit with probability better than random guessing. The encoding and decoding scheme for encoding 2 bits and 3 bits of information into 1 qubit are denoted as, respectively, $(2,1)$-QRAC and $(3,1)$-QRAC.   \n",
    "\n",
    "Here, using `QuantumProgram` of IBM Q Experience we describe how to construct the $(2,1)$-QRAC, i.e., encoding $2$ bits of information into $1$ qubit so that any bit can be recovered with probability at least $0.85$, as well as the $(3,1)$-QRAC, i.e., encoding $3$-bits of information into $1$ qubit so that any bit can be recovered with probability at least $0.78$. All necessary unitary gates and measurements can be realized by the $u3$ rotation gates included in the [qelib1.inc](https://github.com/IBM/qiskit-openqasm/blob/master/examples/generic/qelib1.inc) whose mathematical definition can be found [here](https://github.com/IBM/qiskit-openqasm/blob/master/spec/qasm2.pdf).\n",
    "\n",
    "First, we prepare the environment."
   ]
  },
  {
   "cell_type": "code",
   "execution_count": 2,
   "metadata": {},
   "outputs": [],
   "source": [
    "# useful math functions\n",
    "from math import pi\n",
    "\n",
    "# importing QISKit\n",
    "from qiskit import Aer, IBMQ\n",
    "from qiskit import QuantumCircuit, ClassicalRegister, QuantumRegister, execute\n",
    "from qiskit.tools.visualization import plot_histogram\n",
    "from qiskit.tools.monitor import job_monitor\n",
    "from qiskit.providers.ibmq import least_busy"
   ]
  },
  {
   "cell_type": "code",
   "execution_count": 3,
   "metadata": {},
   "outputs": [],
   "source": [
    "IBMQ.load_accounts()"
   ]
  },
  {
   "cell_type": "markdown",
   "metadata": {},
   "source": [
    "## Encoding 2 bits into 1 qubit with $(2,1)$-QRAC\n",
    "We follow Example 1 described in the paper [here](http://iopscience.iop.org/article/10.1088/1367-2630/8/8/129/meta). Alice encodes her $2$ bits $x_1x_2$ by preparing the following 1-qubit states $|\\phi_{x_1x_2}\\rangle$.\n",
    "\n",
    "\\begin{eqnarray}\n",
    "|\\phi_{00}\\rangle &=& \\cos\\left(\\pi/8\\right)|0\\rangle + \\sin\\left(\\pi/8\\right)|1\\rangle\\\\\n",
    "|\\phi_{10}\\rangle &=& \\cos\\left(3\\pi/8\\right)|0\\rangle + \\sin\\left(3\\pi/8\\right)|1\\rangle\\\\\n",
    "|\\phi_{11}\\rangle &=& \\cos\\left(5\\pi/8\\right)|0\\rangle + \\sin\\left(5\\pi/8\\right)|1\\rangle\\\\\n",
    "|\\phi_{01}\\rangle &=& \\cos\\left(7\\pi/8\\right)|0\\rangle + \\sin\\left(7\\pi/8\\right)|1\\rangle\\\\\n",
    "\\end{eqnarray}\n",
    "\n",
    "Bob recovers his choice of bit by measuring the qubit in the following way. If he wants to recover the first bit (i.e., $x_1$), he measures the qubit in the $\\left\\{|0\\rangle, |1\\rangle\\right\\}$ basis, namely, he concludes $0$ if he observes $|0\\rangle$, and $1$ otherwise. On the other hand, if he wants to recover the second bit (i.e., $x_2$), he measures the qubit in the $\\left\\{|+\\rangle, |-\\rangle\\right\\}$ basis, where $|+\\rangle = 1/\\sqrt{2}\\left(|0\\rangle + |1\\rangle\\right)$, and $|-\\rangle = 1/\\sqrt{2}\\left(|0\\rangle - |1\\rangle\\right)$. \n",
    "\n",
    "Below is the code to create quantum circuits for performing experiments of $(2,1)$-QRAC. Each of the circuits consits of encoding $2$ bits of information into $1$ qubit and decoding either the first or the second bit by performing measurement on the qubit. Notice that because in the IBM Q Experience we can only perform measurement in the $\\left\\{|0\\rangle, |1\\rangle\\right\\}$ basis, the measurement in the $\\left\\{|+\\rangle, |-\\rangle\\right\\}$ basis is performed by first applying the Hadamard gate. "
   ]
  },
  {
   "cell_type": "code",
   "execution_count": 4,
   "metadata": {},
   "outputs": [
    {
     "name": "stdout",
     "output_type": "stream",
     "text": [
      "List of circuit names: ['Encode00DecodeFirst', 'Encode00DecodeSecond', 'Encode01DecodeFirst', 'Encode01DecodeSecond', 'Encode10DecodeFirst', 'Encode10DecodeSecond', 'Encode11DecodeFirst', 'Encode11DecodeSecond']\n"
     ]
    }
   ],
   "source": [
    "backend = Aer.get_backend('qasm_simulator') # the device to run on\n",
    "shots = 1024    # the number of shots in the experiment \n",
    "\n",
    "#to record the rotation number for encoding 00, 10, 11, 01\n",
    "rotationNumbers = {\"00\":1, \"10\":3, \"11\":5, \"01\":7}\n",
    "\n",
    "# Creating registers\n",
    "# qubit for encoding 2 bits of information\n",
    "qr = QuantumRegister(1)\n",
    "# bit for recording the measurement of the qubit\n",
    "cr = ClassicalRegister(1)\n",
    "\n",
    "# dictionary for encoding circuits\n",
    "encodingCircuits = {}\n",
    "# Quantum circuits for encoding 00, 10, 11, 01\n",
    "for bits in (\"00\", \"01\", \"10\", \"11\"):\n",
    "    circuitName = \"Encode\"+bits\n",
    "    encodingCircuits[circuitName] = QuantumCircuit(qr, cr, name=circuitName)\n",
    "    encodingCircuits[circuitName].u3(rotationNumbers[bits]*pi/4.0, 0, 0, qr[0])\n",
    "    encodingCircuits[circuitName].barrier()\n",
    "\n",
    "# dictionary for decoding circuits\n",
    "decodingCircuits = {}\n",
    "# Quantum circuits for decoding the first and second bit\n",
    "for pos in (\"First\", \"Second\"):\n",
    "    circuitName = \"Decode\"+pos\n",
    "    decodingCircuits[circuitName] = QuantumCircuit(qr, cr, name=circuitName)\n",
    "    if pos == \"Second\": #if pos == \"First\" we can directly measure\n",
    "        decodingCircuits[circuitName].h(qr[0])\n",
    "    decodingCircuits[circuitName].measure(qr[0], cr[0])\n",
    "\n",
    "#combine encoding and decoding of QRACs to get a list of complete circuits\n",
    "circuitNames = []\n",
    "circuits = []\n",
    "for k1 in encodingCircuits.keys():\n",
    "    for k2 in decodingCircuits.keys():\n",
    "        circuitNames.append(k1+k2)\n",
    "        circuits.append(encodingCircuits[k1]+decodingCircuits[k2])\n",
    "\n",
    "print(\"List of circuit names:\", circuitNames) #list of circuit names"
   ]
  },
  {
   "cell_type": "markdown",
   "metadata": {},
   "source": [
    "Now, we can perform various experiments of $(2,1)$-QRAC. Below, we execute all circuits of QRACs and plot some experimental results. "
   ]
  },
  {
   "cell_type": "code",
   "execution_count": 5,
   "metadata": {},
   "outputs": [
    {
     "name": "stdout",
     "output_type": "stream",
     "text": [
      "Experimental Result of Encode01DecodeFirst\n",
      "Experimental Result of Encode01DecodeSecond\n",
      "Experimental Result of Encode11DecodeFirst\n",
      "Experimental Result of Encode11DecodeSecond\n"
     ]
    },
    {
     "data": {
      "image/png": "[encoded data removed]",
      "text/plain": [
       "<Figure size 504x360 with 1 Axes>"
      ]
     },
     "execution_count": 5,
     "metadata": {},
     "output_type": "execute_result"
    }
   ],
   "source": [
    "job = execute(circuits, backend=backend, shots=shots)\n",
    "results = job.result()\n",
    "print(\"Experimental Result of Encode01DecodeFirst\")\n",
    "#We should measure \"0\" with probability 0.85\n",
    "plot_histogram(results.get_counts(circuits[circuitNames.index(\"Encode01DecodeFirst\")]))\n",
    "print(\"Experimental Result of Encode01DecodeSecond\")\n",
    "#We should measure \"1\" with probability 0.85\n",
    "plot_histogram(results.get_counts(circuits[circuitNames.index(\"Encode01DecodeSecond\")]))\n",
    "print(\"Experimental Result of Encode11DecodeFirst\")\n",
    "#We should measure \"1\" with probability 0.85\n",
    "plot_histogram(results.get_counts(circuits[circuitNames.index(\"Encode11DecodeFirst\")]))\n",
    "print(\"Experimental Result of Encode11DecodeSecond\")\n",
    "#We should measure \"1\" with probability 0.85\n",
    "plot_histogram(results.get_counts(circuits[circuitNames.index(\"Encode11DecodeSecond\")]))"
   ]
  },
  {
   "cell_type": "markdown",
   "metadata": {},
   "source": [
    "From the above simulations, we can see that each of the encoded bits can be decoded with probability closed to the theoretical values. We can now proceed to perform experiments on the real devices or local simulator, as below. "
   ]
  },
  {
   "cell_type": "code",
   "execution_count": 6,
   "metadata": {},
   "outputs": [
    {
     "name": "stdout",
     "output_type": "stream",
     "text": [
      "Job Status: job has successfully run\n"
     ]
    }
   ],
   "source": [
    "# Use the IBM Quantum Experience\n",
    "backend = least_busy(IBMQ.backends(simulator=False))\n",
    "job_exp = execute(circuits, backend=backend, shots=shots)\n",
    "job_monitor(job_exp)"
   ]
  },
  {
   "cell_type": "code",
   "execution_count": 7,
   "metadata": {},
   "outputs": [
    {
     "name": "stdout",
     "output_type": "stream",
     "text": [
      "Experimental Result of Encode01DecodeFirst\n",
      "Experimental Result of Encode01DecodeSecond\n"
     ]
    },
    {
     "data": {
      "image/png": "[encoded data removed]",
      "text/plain": [
       "<Figure size 504x360 with 1 Axes>"
      ]
     },
     "execution_count": 7,
     "metadata": {},
     "output_type": "execute_result"
    }
   ],
   "source": [
    "results = job_exp.result()\n",
    "print(\"Experimental Result of Encode01DecodeFirst\")\n",
    "#We should measure \"0\" with probability 0.85\n",
    "plot_histogram(results.get_counts(circuits[circuitNames.index(\"Encode01DecodeFirst\")]))\n",
    "print(\"Experimental Result of Encode01DecodeSecond\")\n",
    "#We should measure \"1\" with probability 0.85\n",
    "plot_histogram(results.get_counts(circuits[circuitNames.index(\"Encode01DecodeSecond\")]))"
   ]
  },
  {
   "cell_type": "markdown",
   "metadata": {},
   "source": [
    "## Encoding 3 bits into 1 qubit with $(3,1)$-QRAC\n",
    "We follow Example 2 described in the paper [here](http://iopscience.iop.org/article/10.1088/1367-2630/8/8/129/meta). \n",
    "Alice encodes her $3$ bits $x_1x_2x_3$ by preparing the following 1-qubit states $|\\phi_{x_1x_2x_3}\\rangle$ as below, where $\\cos^2\\left(\\theta\\right) = 1/2 + \\sqrt{3}/6 > 0.788$.   \n",
    "\n",
    "\\begin{eqnarray}\n",
    "|\\phi_{000}\\rangle &=& \\cos\\left(\\theta\\right)|0\\rangle + e^{i\\pi/4}\\sin\\left(\\theta\\right)|1\\rangle\\\\\n",
    "|\\phi_{001}\\rangle &=& \\cos\\left(\\theta\\right)|0\\rangle + e^{-i\\pi/4}\\sin\\left(\\theta\\right)|1\\rangle\\\\\n",
    "|\\phi_{010}\\rangle &=& \\cos\\left(\\theta\\right)|0\\rangle + e^{3i\\pi/4}\\sin\\left(\\theta\\right)|1\\rangle\\\\\n",
    "|\\phi_{011}\\rangle &=& \\cos\\left(\\theta\\right)|0\\rangle + e^{-3i\\pi/4}\\sin\\left(\\theta\\right)|1\\rangle\\\\\n",
    "|\\phi_{100}\\rangle &=& \\sin\\left(\\theta\\right)|0\\rangle + e^{i\\pi/4}\\cos\\left(\\theta\\right)|1\\rangle\\\\\n",
    "|\\phi_{101}\\rangle &=& \\sin\\left(\\theta\\right)|0\\rangle + e^{-i\\pi/4}\\cos\\left(\\theta\\right)|1\\rangle\\\\\n",
    "|\\phi_{110}\\rangle &=& \\sin\\left(\\theta\\right)|0\\rangle + e^{3i\\pi/4}\\cos\\left(\\theta\\right)|1\\rangle\\\\\n",
    "|\\phi_{111}\\rangle &=& \\sin\\left(\\theta\\right)|0\\rangle + e^{-i\\pi/4}\\cos\\left(\\theta\\right)|1\\rangle\\\\\n",
    "\\end{eqnarray}\n",
    "\n",
    "Bob recovers his choice of bit by measuring the qubit similarly as in the $(2,1,0.85)$-QRAC for the first and second bit, and to recover the third bit, he measures the qubit in the $\\left\\{|+'\\rangle, |-'\\rangle\\right\\}$ basis, where $|+'\\rangle = 1/\\sqrt{2}\\left(|0\\rangle + i |1\\rangle\\right)$, and $|-'\\rangle = 1/\\sqrt{2}\\left(|0\\rangle - i |1\\rangle\\right)$. \n",
    "\n",
    "Intuitively, the encoding of $(3,1)$-QRAC correspond to assigning the $8$ states to the corners of the unit cube inside the Bloch Sphere as depicted in the figure below. \n",
    "<img src=\"../../images/blochsphere31.png\" alt=\"Note: In order for images to show up in this jupyter notebook you need to select File => Trusted Notebook\" width=\"300 px\" align=\"center\">\n",
    "\n",
    "Below is the code to create quantum circuits for performing experiments of $(3,1)$-QRAC. Similarly to the $(2,1)$-QRAC, each of the circuits consists of encoding $3$ bits of information into $1$ qubit and decoding either the first, the second, or the third bit by performing measurement on the qubit."
   ]
  },
  {
   "cell_type": "code",
   "execution_count": 8,
   "metadata": {
    "scrolled": false
   },
   "outputs": [
    {
     "name": "stdout",
     "output_type": "stream",
     "text": [
      "List of circuit names: ['Encode000DecodeFirst', 'Encode000DecodeSecond', 'Encode000DecodeThird', 'Encode010DecodeFirst', 'Encode010DecodeSecond', 'Encode010DecodeThird', 'Encode100DecodeFirst', 'Encode100DecodeSecond', 'Encode100DecodeThird', 'Encode110DecodeFirst', 'Encode110DecodeSecond', 'Encode110DecodeThird', 'Encode001DecodeFirst', 'Encode001DecodeSecond', 'Encode001DecodeThird', 'Encode011DecodeFirst', 'Encode011DecodeSecond', 'Encode011DecodeThird', 'Encode101DecodeFirst', 'Encode101DecodeSecond', 'Encode101DecodeThird', 'Encode111DecodeFirst', 'Encode111DecodeSecond', 'Encode111DecodeThird']\n"
     ]
    }
   ],
   "source": [
    "backend = Aer.get_backend('qasm_simulator') # the device to run on\n",
    "shots = 1024    # the number of shots in the experiment \n",
    "from math import sqrt, cos, acos\n",
    "\n",
    "#compute the value of theta\n",
    "theta = acos(sqrt(0.5 + sqrt(3.0)/6.0))\n",
    "\n",
    "#to record the u3 parameters for encoding 000, 010, 100, 110, 001, 011, 101, 111\n",
    "rotationParams = {\"000\":(2*theta, pi/4, -pi/4), \"010\":(2*theta, 3*pi/4, -3*pi/4), \n",
    "                  \"100\":(pi-2*theta, pi/4, -pi/4), \"110\":(pi-2*theta, 3*pi/4, -3*pi/4), \n",
    "                  \"001\":(2*theta, -pi/4, pi/4), \"011\":(2*theta, -3*pi/4, 3*pi/4), \n",
    "                  \"101\":(pi-2*theta, -pi/4, pi/4), \"111\":(pi-2*theta, -3*pi/4, 3*pi/4)}\n",
    "\n",
    "# Creating registers\n",
    "# qubit for encoding 3 bits of information\n",
    "qr = QuantumRegister(1)\n",
    "# bit for recording the measurement of the qubit\n",
    "cr = ClassicalRegister(1)\n",
    "\n",
    "# dictionary for encoding circuits\n",
    "encodingCircuits = {}\n",
    "# Quantum circuits for encoding 000, ..., 111\n",
    "for bits in rotationParams.keys():\n",
    "    circuitName = \"Encode\"+bits\n",
    "    encodingCircuits[circuitName] = QuantumCircuit(qr, cr, name=circuitName)\n",
    "    encodingCircuits[circuitName].u3(*rotationParams[bits], qr[0])\n",
    "    encodingCircuits[circuitName].barrier()\n",
    "\n",
    "# dictionary for decoding circuits\n",
    "decodingCircuits = {}\n",
    "# Quantum circuits for decoding the first, second and third bit\n",
    "for pos in (\"First\", \"Second\", \"Third\"):\n",
    "    circuitName = \"Decode\"+pos\n",
    "    decodingCircuits[circuitName] = QuantumCircuit(qr, cr, name=circuitName)\n",
    "    if pos == \"Second\": #if pos == \"First\" we can directly measure\n",
    "        decodingCircuits[circuitName].h(qr[0])\n",
    "    elif pos == \"Third\":\n",
    "        decodingCircuits[circuitName].u3(pi/2, -pi/2, pi/2, qr[0])\n",
    "    decodingCircuits[circuitName].measure(qr[0], cr[0])\n",
    "\n",
    "#combine encoding and decoding of QRACs to get a list of complete circuits\n",
    "circuitNames = []\n",
    "circuits = []\n",
    "for k1 in encodingCircuits.keys():\n",
    "    for k2 in decodingCircuits.keys():\n",
    "        circuitNames.append(k1+k2)\n",
    "        circuits.append(encodingCircuits[k1]+decodingCircuits[k2])\n",
    "\n",
    "print(\"List of circuit names:\", circuitNames) #list of circuit names"
   ]
  },
  {
   "cell_type": "markdown",
   "metadata": {},
   "source": [
    "Now, we can perform various experiments of $(3,1)$-QRAC. Below, we execute all circuits of QRACs and plot some experimental results. "
   ]
  },
  {
   "cell_type": "code",
   "execution_count": 9,
   "metadata": {},
   "outputs": [
    {
     "name": "stdout",
     "output_type": "stream",
     "text": [
      "Experimental Result of Encode010DecodeFirst\n",
      "Experimental Result of Encode010DecodeSecond\n",
      "Experimental Result of Encode010DecodeThird\n"
     ]
    },
    {
     "data": {
      "image/png": "[encoded data removed]",
      "text/plain": [
       "<Figure size 504x360 with 1 Axes>"
      ]
     },
     "execution_count": 9,
     "metadata": {},
     "output_type": "execute_result"
    }
   ],
   "source": [
    "job = execute(circuits, backend=backend, shots=shots)\n",
    "results = job.result()\n",
    "print(\"Experimental Result of Encode010DecodeFirst\")\n",
    "# We should measure \"0\" with probability 0.78\n",
    "plot_histogram(results.get_counts(circuits[circuitNames.index(\"Encode010DecodeFirst\")]))\n",
    "print(\"Experimental Result of Encode010DecodeSecond\")\n",
    "# We should measure \"1\" with probability 0.78\n",
    "plot_histogram(results.get_counts(circuits[circuitNames.index(\"Encode010DecodeSecond\")]))\n",
    "print(\"Experimental Result of Encode010DecodeThird\")\n",
    "# We should measure \"0\" with probability 0.78\n",
    "plot_histogram(results.get_counts(circuits[circuitNames.index(\"Encode010DecodeThird\")]))"
   ]
  },
  {
   "cell_type": "markdown",
   "metadata": {},
   "source": [
    "Now, we can perform various experiments of $(3,1)$-QRAC. Below, we execute all circuits of QRACs and plot some experimental results. "
   ]
  },
  {
   "cell_type": "code",
   "execution_count": 10,
   "metadata": {},
   "outputs": [
    {
     "name": "stdout",
     "output_type": "stream",
     "text": [
      "Job Status: job has successfully run\n"
     ]
    }
   ],
   "source": [
    "# Use the IBM Quantum Experience\n",
    "backend = least_busy(IBMQ.backends(simulator=False))\n",
    "job_exp = execute(circuits, backend=backend, shots=shots)\n",
    "job_monitor(job_exp)"
   ]
  },
  {
   "cell_type": "code",
   "execution_count": 11,
   "metadata": {},
   "outputs": [
    {
     "name": "stdout",
     "output_type": "stream",
     "text": [
      "Experimental Result of Encode010DecodeFirst\n",
      "Experimental Result of Encode010DecodeSecond\n",
      "Experimental Result of Encode010DecodeThird\n"
     ]
    },
    {
     "data": {
      "image/png": "[encoded data removed]",
      "text/plain": [
       "<Figure size 504x360 with 1 Axes>"
      ]
     },
     "execution_count": 11,
     "metadata": {},
     "output_type": "execute_result"
    }
   ],
   "source": [
    "results = job_exp.result()\n",
    "print(\"Experimental Result of Encode010DecodeFirst\")\n",
    "plot_histogram(results.get_counts(circuits[circuitNames.index(\"Encode010DecodeFirst\")]))\n",
    "#We should measure \"0\" with probability 0.78\n",
    "print(\"Experimental Result of Encode010DecodeSecond\")\n",
    "#We should measure \"1\" with probability 0.78\n",
    "plot_histogram(results.get_counts(circuits[circuitNames.index(\"Encode010DecodeSecond\")]))\n",
    "print(\"Experimental Result of Encode010DecodeThird\")\n",
    "#We should measure \"0\" with probability 0.78\n",
    "plot_histogram(results.get_counts(circuits[circuitNames.index(\"Encode010DecodeThird\")]))"
   ]
  },
  {
   "cell_type": "markdown",
   "metadata": {},
   "source": [
    "## About Quantum Random Access Coding\n",
    "The notion of Quantum RAC was first presented [here](https://arxiv.org/abs/quant-ph/9804043) along with the concrete example of $(2,1)$-QRAC which apparently was discovered much earlier in 1983 by [Wiesner](http://dl.acm.org/citation.cfm?doid=1008908.1008920). The idea of the $(3,1)$-QRAC appeared in the [classic book of Mike and Ike](https://www.amazon.com/Quantum-Computation-Information-10th-Anniversary/dp/1107002176). The first experiments on $(2,1)$-QRAC and $(3,1)$-QRAC were presented [here](https://arxiv.org/abs/0805.1463). It is not possible to perform $(4,1)$-QRAC as shown [here](http://iopscience.iop.org/article/10.1088/1367-2630/8/8/129/meta).  "
   ]
  }
 ],
 "metadata": {
  "anaconda-cloud": {},
  "kernelspec": {
   "display_name": "Python 3",
   "language": "python",
   "name": "python3"
  },
  "language_info": {
   "codemirror_mode": {
    "name": "ipython",
    "version": 3
   },
   "file_extension": ".py",
   "mimetype": "text/x-python",
   "name": "python",
   "nbconvert_exporter": "python",
   "pygments_lexer": "ipython3",
   "version": "3.7.2"
  }
 },
 "nbformat": 4,
 "nbformat_minor": 1
}
