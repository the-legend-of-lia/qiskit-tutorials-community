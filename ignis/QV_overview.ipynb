{
 "cells": [
  {
   "cell_type": "markdown",
   "metadata": {},
   "source": [
    "<img src=\"https://raw.githubusercontent.com/Qiskit/qiskit-tutorials/master/images/qiskit-heading.png\" alt=\"Note: In order for images to show up in this jupyter notebook you need to select File => Trusted Notebook\" width=\"500 px\\\" align=\"left\">"
   ]
  },
  {
   "cell_type": "markdown",
   "metadata": {},
   "source": [
    "# Quantum Volume Overview\n",
    "\n",
    "### Contributors\n",
    "\n",
    "Shelly Garion$^{1}$ and David McKay$^{2}$\n",
    "\n",
    "1. IBM Research Haifa, Haifa University Campus, Mount Carmel Haifa, Israel\n",
    "2. IBM T.J. Watson Research Center, Yorktown Heights, NY, USA"
   ]
  },
  {
   "cell_type": "markdown",
   "metadata": {},
   "source": [
    "## Introduction\n",
    "\n",
    "**Quantum Volume (QV)** is a single-number metric that can be measured using a concrete\n",
    "protocol on near-term quantum computers of modest size. The QV method quantifies\n",
    "the largest random circuit of equal width and depth that the computer successfully implements.\n",
    "Quantum computing systems with high-fidelity operations, high connectivity, large calibrated gate\n",
    "sets, and circuit rewriting toolchains are expected to have higher quantum volumes. \n",
    "\n",
    "\n",
    "### References\n",
    "\n",
    "[1] Andrew W. Cross, Lev S. Bishop, Sarah Sheldon, Paul D. Nation, and Jay M. Gambetta, *Validating quantum computers using randomized model circuits*, https://arxiv.org/pdf/1811.12926\n",
    "\n",
    "\n",
    "\n",
    "## The Quantum Volume Protocol\n",
    "\n",
    "A QV protocol (see [1]) consists of the following steps:\n",
    "\n",
    "(We should first import the relevant qiskit classes for the demonstration)."
   ]
  },
  {
   "cell_type": "code",
   "execution_count": 1,
   "metadata": {},
   "outputs": [],
   "source": [
    "#Import general libraries (needed for functions)\n",
    "import numpy as np\n",
    "import matplotlib.pyplot as plt\n",
    "\n",
    "#Import Qiskit classes classes\n",
    "import qiskit\n",
    "from qiskit.providers.aer.noise import NoiseModel\n",
    "from qiskit.providers.aer.noise.errors.standard_errors import depolarizing_error, thermal_relaxation_error\n",
    "\n",
    "#Import the qv function.\n",
    "import qiskit.ignis.verification.quantum_volume as qv"
   ]
  },
  {
   "cell_type": "markdown",
   "metadata": {},
   "source": [
    "### Step 1: Generate QV sequences\n",
    "\n",
    "It is well-known that quantum algorithms can be expressed as polynomial-sized quantum circuits built from two-qubit unitary gates. Therefore, a model circuit consists of $d$ layers of random permutations of the qubit labels, followed by random two-qubit gates (from $SU(4)$). When the circuit width $m$ is odd, one of the qubits is idle in each layer.\n",
    "\n",
    "More precisely, a **QV circuit** with **depth $d$** and **width $m$**, is a sequence $U = U^{(d)}...U^{(2)}U^{(1)}$ of $d$ layers:\n",
    "$$ U^{(t)} = U^{(t)}_{\\pi_t(m'-1),\\pi_t(m)} \\otimes ... \\otimes U^{(t)}_{\\pi_t(1),\\pi_t(2)} $$\n",
    "each labeled by times $t = 1 ... d$ and acting on $m' = 2 \\lfloor n/2 \\rfloor$ qubits. \n",
    "Each layer is specified by choosing a uniformly random permutation $\\pi_t \\in S_m$ of the $m$ qubit indices\n",
    "and sampling each $U^{(t)}_{a,b}$, acting on qubits $a$ and $b$, from the Haar measure on $SU(4)$.\n",
    "\n",
    "In the following example we have 6 qubits Q0,Q1,Q3,Q5,Q7,Q10. We are going to look at subsets up to the full set\n",
    "(each volume circuit will be depth equal to the number of qubits in the subset)"
   ]
  },
  {
   "cell_type": "code",
   "execution_count": 2,
   "metadata": {},
   "outputs": [],
   "source": [
    "# qubit_lists: list of list of qubit subsets to generate QV circuits\n",
    "qubit_lists = [[0,1,3],[0,1,3,5],[0,1,3,5,7],[0,1,3,5,7,10]]\n",
    "# ntrials: Number of random circuits to create for each subset\n",
    "ntrials = 50"
   ]
  },
  {
   "cell_type": "markdown",
   "metadata": {},
   "source": [
    "We generate the quantum volume sequences. We start with a small example (so it doesn't take too long to run)."
   ]
  },
  {
   "cell_type": "code",
   "execution_count": 3,
   "metadata": {},
   "outputs": [],
   "source": [
    "qv_circs, qv_circs_nomeas = qv.qv_circuits(qubit_lists, ntrials)"
   ]
  },
  {
   "cell_type": "markdown",
   "metadata": {},
   "source": [
    "As an example, we print the circuit corresponding to the first QV sequence. Note that the ideal circuits are run on the first n qubits (where n is the number of qubits in the subset)."
   ]
  },
  {
   "cell_type": "code",
   "execution_count": 4,
   "metadata": {},
   "outputs": [],
   "source": [
    "#pass the first trial of the nomeas through the transpiler to illustrate the circuit\n",
    "qv_circs_nomeas[0] = qiskit.compiler.transpile(qv_circs_nomeas[0], basis_gates=['u1','u2','u3','cx'])"
   ]
  },
  {
   "cell_type": "code",
   "execution_count": 5,
   "metadata": {},
   "outputs": [
    {
     "name": "stdout",
     "output_type": "stream",
     "text": [
      "         ┌──────────────────────────────┐                                  »\n",
      "qr_0: |0>┤ U3(0.87222,-3.6056,-0.99855) ├──────────────────────────────────»\n",
      "         └┬────────────────────────────┬┘     ┌───────────────────────────┐»\n",
      "qr_1: |0>─┤ U3(0.52509,-1.8514,0.3785) ├───■──┤ U3(0.63498,1.5708,4.7124) ├»\n",
      "         ┌┴────────────────────────────┤ ┌─┴─┐└──┬─────────────────────┬──┘»\n",
      "qr_2: |0>┤ U3(1.9895,0.0074621,5.0423) ├─┤ X ├───┤ U3(1.5708,0,-5.713) ├───»\n",
      "         └─────────────────────────────┘ └───┘   └─────────────────────┘   »\n",
      " cr_0: 0 ══════════════════════════════════════════════════════════════════»\n",
      "                                                                           »\n",
      " cr_1: 0 ══════════════════════════════════════════════════════════════════»\n",
      "                                                                           »\n",
      " cr_2: 0 ══════════════════════════════════════════════════════════════════»\n",
      "                                                                           »\n",
      "«                                                  »\n",
      "«qr_0: ────────────────────────────────────────────»\n",
      "«           ┌────────────────────────────────┐     »\n",
      "«qr_1: ──■──┤ U3(0.33219,-1.7764e-15,4.7124) ├──■──»\n",
      "«      ┌─┴─┐└─┬────────────────────────────┬─┘┌─┴─┐»\n",
      "«qr_2: ┤ X ├──┤ U3(1.5708,-3.1416,-1.5708) ├──┤ X ├»\n",
      "«      └───┘  └────────────────────────────┘  └───┘»\n",
      "«cr_0: ════════════════════════════════════════════»\n",
      "«                                                  »\n",
      "«cr_1: ════════════════════════════════════════════»\n",
      "«                                                  »\n",
      "«cr_2: ════════════════════════════════════════════»\n",
      "«                                                  »\n",
      "«                                                                       »\n",
      "«qr_0: ─────────────────────────────────────────────────────────────────»\n",
      "«      ┌────────────────────────────┐┌────────────────────────────┐     »\n",
      "«qr_1: ┤ U3(1.9521,5.8535,0.045854) ├┤ U3(1.1882,3.6057,-0.89911) ├──■──»\n",
      "«      ├────────────────────────────┤├───────────────────────────┬┘┌─┴─┐»\n",
      "«qr_2: ┤ U3(0.51454,2.5314,-2.1542) ├┤ U3(0.86532,0.8319,2.0513) ├─┤ X ├»\n",
      "«      └────────────────────────────┘└───────────────────────────┘ └───┘»\n",
      "«cr_0: ═════════════════════════════════════════════════════════════════»\n",
      "«                                                                       »\n",
      "«cr_1: ═════════════════════════════════════════════════════════════════»\n",
      "«                                                                       »\n",
      "«cr_2: ═════════════════════════════════════════════════════════════════»\n",
      "«                                                                       »\n",
      "«                                                                           »\n",
      "«qr_0: ─────────────────────────────────────────────────────────────────────»\n",
      "«        ┌───────────────────────────┐       ┌─────────────────────────────┐»\n",
      "«qr_1: ──┤ U3(0.94961,1.5708,4.7124) ├────■──┤ U3(0.0076131,3.1416,1.5708) ├»\n",
      "«      ┌─┴───────────────────────────┴─┐┌─┴─┐└┬────────────────────────────┤»\n",
      "«qr_2: ┤ U3(1.5708,-4.4409e-16,-5.938) ├┤ X ├─┤ U3(1.5708,-3.1416,-1.5708) ├»\n",
      "«      └───────────────────────────────┘└───┘ └────────────────────────────┘»\n",
      "«cr_0: ═════════════════════════════════════════════════════════════════════»\n",
      "«                                                                           »\n",
      "«cr_1: ═════════════════════════════════════════════════════════════════════»\n",
      "«                                                                           »\n",
      "«cr_2: ═════════════════════════════════════════════════════════════════════»\n",
      "«                                                                           »\n",
      "«                                                                            »\n",
      "«qr_0: ───────────────────────────────────────────────────────────────────■──»\n",
      "«            ┌────────────────────────────┐┌───────────────────────────┐┌─┴─┐»\n",
      "«qr_1: ──■───┤ U3(1.0471,-1.5044,-2.6216) ├┤ U3(0.83828,-3.7118,-2.27) ├┤ X ├»\n",
      "«      ┌─┴─┐┌┴────────────────────────────┤└───────────────────────────┘└───┘»\n",
      "«qr_2: ┤ X ├┤ U3(0.68382,-3.5321,-1.3577) ├──────────────────────────────────»\n",
      "«      └───┘└─────────────────────────────┘                                  »\n",
      "«cr_0: ══════════════════════════════════════════════════════════════════════»\n",
      "«                                                                            »\n",
      "«cr_1: ══════════════════════════════════════════════════════════════════════»\n",
      "«                                                                            »\n",
      "«cr_2: ══════════════════════════════════════════════════════════════════════»\n",
      "«                                                                            »\n",
      "«        ┌───────────────────────────┐        »\n",
      "«qr_0: ──┤ U3(0.90513,1.5708,4.7124) ├─────■──»\n",
      "«      ┌─┴───────────────────────────┴──┐┌─┴─┐»\n",
      "«qr_1: ┤ U3(1.5708,-4.4409e-16,-6.2526) ├┤ X ├»\n",
      "«      └────────────────────────────────┘└───┘»\n",
      "«qr_2: ───────────────────────────────────────»\n",
      "«                                             »\n",
      "«cr_0: ═══════════════════════════════════════»\n",
      "«                                             »\n",
      "«cr_1: ═══════════════════════════════════════»\n",
      "«                                             »\n",
      "«cr_2: ═══════════════════════════════════════»\n",
      "«                                             »\n",
      "«      ┌────────────────────────────────┐     ┌─────────────────────────────┐\n",
      "«qr_0: ┤ U3(0.25732,-2.2204e-15,4.7124) ├──■──┤ U3(1.7629,3.2103,-0.053929) ├\n",
      "«      └─┬────────────────────────────┬─┘┌─┴─┐└┬───────────────────────────┬┘\n",
      "«qr_1: ──┤ U3(1.5708,-3.1416,-1.5708) ├──┤ X ├─┤ U3(2.3943,0.23818,0.7056) ├─\n",
      "«        └────────────────────────────┘  └───┘ └───────────────────────────┘ \n",
      "«qr_2: ──────────────────────────────────────────────────────────────────────\n",
      "«                                                                            \n",
      "«cr_0: ══════════════════════════════════════════════════════════════════════\n",
      "«                                                                            \n",
      "«cr_1: ══════════════════════════════════════════════════════════════════════\n",
      "«                                                                            \n",
      "«cr_2: ══════════════════════════════════════════════════════════════════════\n",
      "«                                                                            \n"
     ]
    }
   ],
   "source": [
    "print(qv_circs_nomeas[0][0])"
   ]
  },
  {
   "cell_type": "markdown",
   "metadata": {},
   "source": [
    "### Step 2: Simulate the ideal QV circuits\n",
    "\n",
    "The quantum volume method requires that we know the ideal output for each circuit, so we use the statevector simulator in Aer to get the ideal result."
   ]
  },
  {
   "cell_type": "code",
   "execution_count": 6,
   "metadata": {},
   "outputs": [
    {
     "name": "stdout",
     "output_type": "stream",
     "text": [
      "Simulating trial 0\n",
      "Simulating trial 1\n",
      "Simulating trial 2\n",
      "Simulating trial 3\n",
      "Simulating trial 4\n",
      "Simulating trial 5\n",
      "Simulating trial 6\n",
      "Simulating trial 7\n",
      "Simulating trial 8\n",
      "Simulating trial 9\n",
      "Simulating trial 10\n",
      "Simulating trial 11\n",
      "Simulating trial 12\n",
      "Simulating trial 13\n",
      "Simulating trial 14\n",
      "Simulating trial 15\n",
      "Simulating trial 16\n",
      "Simulating trial 17\n",
      "Simulating trial 18\n",
      "Simulating trial 19\n",
      "Simulating trial 20\n",
      "Simulating trial 21\n",
      "Simulating trial 22\n",
      "Simulating trial 23\n",
      "Simulating trial 24\n",
      "Simulating trial 25\n",
      "Simulating trial 26\n",
      "Simulating trial 27\n",
      "Simulating trial 28\n",
      "Simulating trial 29\n",
      "Simulating trial 30\n",
      "Simulating trial 31\n",
      "Simulating trial 32\n",
      "Simulating trial 33\n",
      "Simulating trial 34\n",
      "Simulating trial 35\n",
      "Simulating trial 36\n",
      "Simulating trial 37\n",
      "Simulating trial 38\n",
      "Simulating trial 39\n",
      "Simulating trial 40\n",
      "Simulating trial 41\n",
      "Simulating trial 42\n",
      "Simulating trial 43\n",
      "Simulating trial 44\n",
      "Simulating trial 45\n",
      "Simulating trial 46\n",
      "Simulating trial 47\n",
      "Simulating trial 48\n",
      "Simulating trial 49\n"
     ]
    }
   ],
   "source": [
    "#The Unitary is an identity (with a global phase)\n",
    "backend = qiskit.Aer.get_backend('statevector_simulator')\n",
    "ideal_results = []\n",
    "for trial in range(ntrials):\n",
    "    print('Simulating trial %d'%trial)\n",
    "    ideal_results.append(qiskit.execute(qv_circs_nomeas[trial], backend=backend).result())\n"
   ]
  },
  {
   "cell_type": "markdown",
   "metadata": {},
   "source": [
    "Next, we load the ideal results into a quantum volume fitter"
   ]
  },
  {
   "cell_type": "code",
   "execution_count": 7,
   "metadata": {},
   "outputs": [],
   "source": [
    "qv_fitter = qv.QVFitter(qubit_lists=qubit_lists)\n",
    "qv_fitter.add_statevectors(ideal_results)"
   ]
  },
  {
   "cell_type": "markdown",
   "metadata": {},
   "source": [
    "### Step 3: Calculate the heavy outputs\n",
    "\n",
    "To define when a model circuit $U$ has been successfully implemented in practice, we use the *heavy output* generation problem. The ideal output distribution is $p_U(x) = |\\langle x|U|0 \\rangle|^2$, \n",
    "where $x \\in \\{0,1\\}^m$ is an observable bit-string. \n",
    "\n",
    "Consider the set of output probabilities given by the range of $p_U(x)$ sorted in ascending order \n",
    "$p_0 \\leq p_1 \\leq \\dots \\leq p_{2^m-1}$. The median of the set of probabilities is \n",
    "$p_{med} = (p_{2^{m-1}} + p_{2^{m-1}-1})/2$, and the *heavy outputs* are\n",
    "$$ H_U = \\{ x \\in \\{0,1\\}^m \\text{ such that } p_U(x)>p_{med} \\}.$$\n",
    "The heavy output generation problem is to produce a set of output strings such that more than two-thirds are heavy.\n",
    "\n",
    "As an illustration, we print the heavy outputs from various depths and their probabilities (for trial 0):"
   ]
  },
  {
   "cell_type": "code",
   "execution_count": 8,
   "metadata": {},
   "outputs": [
    {
     "name": "stdout",
     "output_type": "stream",
     "text": [
      "qv_depth_3_trial_0: ['000', '001', '100', '111']\n",
      "qv_depth_4_trial_0: ['0000', '0100', '0101', '1000', '1001', '1011', '1100', '1101']\n",
      "qv_depth_5_trial_0: ['00000', '00011', '00100', '00101', '00111', '01001', '01011', '01100', '10000', '10011', '10101', '10110', '11000', '11001', '11010', '11101']\n",
      "qv_depth_6_trial_0: ['000011', '000110', '000111', '001000', '001100', '001110', '001111', '010001', '010011', '010101', '011000', '011100', '011101', '100001', '100101', '100110', '100111', '101000', '101001', '101011', '101100', '101101', '101110', '101111', '110011', '110100', '110101', '110110', '111001', '111010', '111011', '111110']\n"
     ]
    }
   ],
   "source": [
    "for qubit_list in qubit_lists:\n",
    "    l = len(qubit_list)\n",
    "    print ('qv_depth_'+str(l)+'_trial_0:', qv_fitter._heavy_outputs['qv_depth_'+str(l)+'_trial_0'])"
   ]
  },
  {
   "cell_type": "code",
   "execution_count": 9,
   "metadata": {},
   "outputs": [
    {
     "name": "stdout",
     "output_type": "stream",
     "text": [
      "qv_depth_3_trial_0: 0.8364265965659454\n",
      "qv_depth_4_trial_0: 0.8954287202366203\n",
      "qv_depth_5_trial_0: 0.8721440467960914\n",
      "qv_depth_6_trial_0: 0.8499058961161158\n"
     ]
    }
   ],
   "source": [
    "for qubit_list in qubit_lists:\n",
    "    l = len(qubit_list)\n",
    "    print ('qv_depth_'+str(l)+'_trial_0:', qv_fitter._heavy_output_prob_ideal['qv_depth_'+str(l)+'_trial_0'])"
   ]
  },
  {
   "cell_type": "markdown",
   "metadata": {},
   "source": [
    "### Step 4: Define the noise model\n",
    "\n",
    "We define a noise model for the simulator. To simulate decay, we add depolarizing error probabilities to the CNOT and U gates."
   ]
  },
  {
   "cell_type": "code",
   "execution_count": 10,
   "metadata": {},
   "outputs": [],
   "source": [
    "noise_model = NoiseModel()\n",
    "p1Q = 0.002\n",
    "p2Q = 0.02\n",
    "noise_model.add_all_qubit_quantum_error(depolarizing_error(p1Q, 1), 'u2')\n",
    "noise_model.add_all_qubit_quantum_error(depolarizing_error(2*p1Q, 1), 'u3')\n",
    "noise_model.add_all_qubit_quantum_error(depolarizing_error(p2Q, 2), 'cx')\n",
    "#noise_model = None"
   ]
  },
  {
   "cell_type": "markdown",
   "metadata": {},
   "source": [
    "We can execute the QV sequences either using Qiskit Aer Simulator (with some noise model) or using IBMQ provider, and obtain a list of exp_results."
   ]
  },
  {
   "cell_type": "code",
   "execution_count": 11,
   "metadata": {},
   "outputs": [
    {
     "name": "stdout",
     "output_type": "stream",
     "text": [
      "Running trial 0\n",
      "Running trial 1\n",
      "Running trial 2\n",
      "Running trial 3\n",
      "Running trial 4\n",
      "Running trial 5\n",
      "Running trial 6\n",
      "Running trial 7\n",
      "Running trial 8\n",
      "Running trial 9\n",
      "Running trial 10\n",
      "Running trial 11\n",
      "Running trial 12\n",
      "Running trial 13\n",
      "Running trial 14\n",
      "Running trial 15\n",
      "Running trial 16\n",
      "Running trial 17\n",
      "Running trial 18\n",
      "Running trial 19\n",
      "Running trial 20\n",
      "Running trial 21\n",
      "Running trial 22\n",
      "Running trial 23\n",
      "Running trial 24\n",
      "Running trial 25\n",
      "Running trial 26\n",
      "Running trial 27\n",
      "Running trial 28\n",
      "Running trial 29\n",
      "Running trial 30\n",
      "Running trial 31\n",
      "Running trial 32\n",
      "Running trial 33\n",
      "Running trial 34\n",
      "Running trial 35\n",
      "Running trial 36\n",
      "Running trial 37\n",
      "Running trial 38\n",
      "Running trial 39\n",
      "Running trial 40\n",
      "Running trial 41\n",
      "Running trial 42\n",
      "Running trial 43\n",
      "Running trial 44\n",
      "Running trial 45\n",
      "Running trial 46\n",
      "Running trial 47\n",
      "Running trial 48\n",
      "Running trial 49\n"
     ]
    }
   ],
   "source": [
    "backend = qiskit.Aer.get_backend('qasm_simulator')\n",
    "basis_gates = ['u1','u2','u3','cx'] # use U,CX for now\n",
    "shots = 1024\n",
    "exp_results = []\n",
    "for trial in range(ntrials):\n",
    "    print('Running trial %d'%trial)\n",
    "    exp_results.append(qiskit.execute(qv_circs[trial], basis_gates=basis_gates, backend=backend, noise_model=noise_model, backend_options={'max_parallel_experiments': 0}).result())"
   ]
  },
  {
   "cell_type": "markdown",
   "metadata": {},
   "source": [
    "### Step 5: Calculate the average gate fidelity\n",
    "\n",
    "The *average gate fidelity* between the $m$-qubit ideal unitaries $U$ and the executed $U'$ is:\n",
    "$$ F_{avg}(U,U') = \\frac{|Tr(U^{\\dagger}U')|^2/2^m+1}{2^m+1}$$\n",
    "\n",
    "The observed distribution for an implementation $U'$ of model circuit $U$ is $q_U(x)$, and the probability of sampling\n",
    "a heavy output is:\n",
    "$$ h_U = \\sum_{x \\in H_U} q_U(x)$$\n",
    "\n",
    "As an illustration, we print the heavy output counts from various depths (for trial 0):"
   ]
  },
  {
   "cell_type": "code",
   "execution_count": 12,
   "metadata": {},
   "outputs": [
    {
     "name": "stdout",
     "output_type": "stream",
     "text": [
      "qv_depth_3_trial_0: 792\n",
      "qv_depth_4_trial_0: 788\n",
      "qv_depth_5_trial_0: 736\n",
      "qv_depth_6_trial_0: 651\n"
     ]
    }
   ],
   "source": [
    "qv_fitter.add_data(exp_results)\n",
    "for qubit_list in qubit_lists:\n",
    "    l = len(qubit_list)\n",
    "    #print (qv_fitter._heavy_output_counts)\n",
    "    print ('qv_depth_'+str(l)+'_trial_0:', qv_fitter._heavy_output_counts['qv_depth_'+str(l)+'_trial_0'])"
   ]
  },
  {
   "cell_type": "markdown",
   "metadata": {},
   "source": [
    "### Step 6: Calculate the achievable depth\n",
    "\n",
    "The probability of observing a heavy output by implementing a randomly selected depth $d$ model circuit is:\n",
    "$$h_d = \\int_U h_U dU$$\n",
    "\n",
    "The *achievable depth* $d(m)$ is the largest $d$ such that we are confident that $h_d > 2/3$. In other words,\n",
    "$$ h_1,h_2,\\dots,h_{d(m)}>2/3 \\text{ and } h_{d(m+1)} \\leq 2/3$$\n",
    "\n",
    "We now convert the heavy outputs in the different trials and calculate the mean $h_d$ and the error for plotting the graph."
   ]
  },
  {
   "cell_type": "code",
   "execution_count": 13,
   "metadata": {},
   "outputs": [
    {
     "data": {
      "image/png": "[encoded data removed]",
      "text/plain": [
       "<matplotlib.figure.Figure at 0x7f9c3134bc50>"
      ]
     },
     "metadata": {
      "needs_background": "light"
     },
     "output_type": "display_data"
    }
   ],
   "source": [
    "plt.figure(figsize=(10, 6))\n",
    "ax = plt.gca()\n",
    "\n",
    "# Plot the essence by calling plot_rb_data\n",
    "qv_fitter.plot_qv_data(ax=ax, show_plt=False)\n",
    "\n",
    "# Add title and label\n",
    "ax.set_title('Quantum Volume for up to %d Qubits \\n and %d Trials'%(len(qubit_lists[-1]), ntrials), fontsize=18)\n",
    "\n",
    "plt.show()"
   ]
  },
  {
   "cell_type": "markdown",
   "metadata": {},
   "source": [
    "### Step 7: Calculate the Quantum Volume\n",
    "\n",
    "\n",
    "The quantum volume treats the width and depth of a model circuit with equal importance and measures the largest squareshaped (i.e., $m = d$) model circuit a quantum computer can implement successfully on average. \n",
    "\n",
    "The *quantum volume* $V_Q$ is defined as\n",
    "$$\\log_2 V_Q = \\arg\\max_{m} \\min (m, d(m))$$"
   ]
  },
  {
   "cell_type": "markdown",
   "metadata": {},
   "source": [
    "We list the statistics for each depth. For each depth we list if the depth was successful or not and with what confidence interval. For a depth to be sucessful the confidence interval must be > 97.5%."
   ]
  },
  {
   "cell_type": "code",
   "execution_count": 14,
   "metadata": {},
   "outputs": [
    {
     "name": "stdout",
     "output_type": "stream",
     "text": [
      "Width/depth 3 greater than 2/3 (0.796309) with confidence 0.988582 (successful). Quantum volume 8\n",
      "Width/depth 4 greater than 2/3 (0.702207) with confidence 0.708690 (unsuccessful).\n",
      "Width/depth 5 greater than 2/3 (0.703359) with confidence 0.714988 (unsuccessful).\n",
      "Width/depth 6 less than 2/3 (unsuccessful).\n"
     ]
    }
   ],
   "source": [
    "qv_success_list = qv_fitter.qv_success()\n",
    "qv_list = qv_fitter.ydata\n",
    "QV = 1\n",
    "for qidx, qubit_list in enumerate(qubit_lists):\n",
    "    if qv_list[0][qidx]>2/3:\n",
    "        if qv_success_list[qidx][0]:\n",
    "            print(\"Width/depth %d greater than 2/3 (%f) with confidence %f (successful). Quantum volume %d\"%\n",
    "                  (len(qubit_list),qv_list[0][qidx],qv_success_list[qidx][1],qv_fitter.quantum_volume()[qidx]))\n",
    "            QV = qv_fitter.quantum_volume()[qidx]\n",
    "        else:\n",
    "            print(\"Width/depth %d greater than 2/3 (%f) with confidence %f (unsuccessful).\"%\n",
    "                  (len(qubit_list),qv_list[0][qidx],qv_success_list[qidx][1]))\n",
    "    else:\n",
    "        print(\"Width/depth %d less than 2/3 (unsuccessful).\"%len(qubit_list))"
   ]
  },
  {
   "cell_type": "code",
   "execution_count": 15,
   "metadata": {},
   "outputs": [
    {
     "name": "stdout",
     "output_type": "stream",
     "text": [
      "The Quantum Volume is: 8\n"
     ]
    }
   ],
   "source": [
    "print (\"The Quantum Volume is:\", QV)"
   ]
  }
 ],
 "metadata": {
  "kernelspec": {
   "display_name": "Python [conda env:YaelEnv]",
   "language": "python",
   "name": "conda-env-YaelEnv-py"
  },
  "language_info": {
   "codemirror_mode": {
    "name": "ipython",
    "version": 3
   },
   "file_extension": ".py",
   "mimetype": "text/x-python",
   "name": "python",
   "nbconvert_exporter": "python",
   "pygments_lexer": "ipython3",
   "version": "3.6.5"
  }
 },
 "nbformat": 4,
 "nbformat_minor": 2
}
