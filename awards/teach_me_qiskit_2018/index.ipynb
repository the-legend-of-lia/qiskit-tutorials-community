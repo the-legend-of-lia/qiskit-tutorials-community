{
 "cells": [
  {
   "cell_type": "markdown",
   "metadata": {},
   "source": [
    "<img src=\"https://raw.githubusercontent.com/Qiskit/qiskit-tutorials/master/images/qiskit-heading.png\" alt=\"Note: In order for images to show up in this jupyter notebook you need to select File => Trusted Notebook\" width=\"500 px\" align=\"left\">"
   ]
  },
  {
   "cell_type": "markdown",
   "metadata": {},
   "source": [
    "## Teach Me QISKit Award 2018: Top Submissions\n",
    "\n",
    "This folder contains the top submissions of the Teach Me QISKit Award 2018.\n",
    "Most of the tutorials were written and tested with [qiskit-terra](https://github.com/Qiskit/qiskit-terra)\n",
    "version 0.4.15.\n",
    "\n",
    "\n",
    "Thanks to the awesome community these tutorials are updated to work with the Qiskit Terra (0.8.1).\n",
    "- [CHSH Game](chsh_game/CHSH%20game-tutorial.ipynb) by Mirko Amico - get used to the quantum weirdness by playing a quantum game.\n",
    "- [Cryptography with BB84](cryptography/Cryptography.ipynb) by Costantino Carugno - implementation of the famous BB84 protocol.\n",
    "- [E91 Quantum Key Distribution Protocol](e91_qkd/e91_quantum_key_distribution_protocol.ipynb) by Andrey Kardashin  - a tutorial on quantum key distribution based on the protocol by Ekert in 1991.\n",
    "- [Quantum Cryptography](quantum_cryptography_qkd/Quantum_Cryptography2.ipynb) by A. J. Rasmusson and Richard Barney  - quantum key distribution with the BB84 protocol.\n",
    "\n",
    "\n",
    "The following work with Qiskit Terra (0.6.0).\n",
    "- [W State](w_state) by Pierre Decoodt - W states and interesting games using them.\n",
    "- [State Distribution in Qubit Chains](state_distribution_in_qubit_chains/index.ipynb) by Alexander Yu. Vlasov  - state transport in quantum chains.\n",
    "- [Elementary Arithmetic Operations](elementary_arithmetic_operations/elementary_arithmetic_operations.ipynb) by Carlos Bravo Prieto - addition and modular exponentiation with quantum circuits which are important for Shor's algorithm.\n",
    "- [Hadamard Action](hadamard_action) by Connor Fieweger - three approaches to show equivalences of circuits.\n",
    "- [Quantum Error Correction](quantum_error_correction/error_correction.ipynb) by Andrew Selzler, Yin Li, Frederick Ira Moxley III  - qubit errors and how to threat them.\n",
    "- [Quantum Machine Learning](quantum_machine_learning/QISKIT%20for%20quantum%20machine%20learning.ipynb) by Shan Jin, Xi He, Xiaokai Hou, Li Sun, Dingding Wen, Shaojun Wu and Xiaoting Wang - quantum k-means, linear system of equation, and SVM.\n",
    "\n",
    "The following work with Qiskit Terra (0.4.15) from time of submission.\n",
    "- [Exact Ising Model Simulation](exact_ising_model_simulation/Ising_time_evolution.ipynb) by Alba Cervera-Lierta - how to simulate time evolution at zero time. *The winner* of the Teach Me QISKit Award 2018. See [here](https://www.ibm.com/blogs/research/2018/06/teach-qiskit-winner/) for the announcement."
   ]
  },
  {
   "cell_type": "code",
   "execution_count": null,
   "metadata": {},
   "outputs": [],
   "source": []
  }
 ],
 "metadata": {
  "kernelspec": {
   "display_name": "Python 3",
   "language": "python",
   "name": "python3"
  },
  "language_info": {
   "codemirror_mode": {
    "name": "ipython",
    "version": 3
   },
   "file_extension": ".py",
   "mimetype": "text/x-python",
   "name": "python",
   "nbconvert_exporter": "python",
   "pygments_lexer": "ipython3",
   "version": "3.7.0"
  }
 },
 "nbformat": 4,
 "nbformat_minor": 2
}
