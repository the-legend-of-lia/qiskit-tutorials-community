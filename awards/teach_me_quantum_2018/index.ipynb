{
 "cells": [
  {
   "cell_type": "markdown",
   "metadata": {},
   "source": [
    "<img src=\"https://raw.githubusercontent.com/Qiskit/qiskit-tutorials/master/images/qiskit-heading.png\" alt=\"Note: In order for images to show up in this jupyter notebook you need to select File => Trusted Notebook\" width=\"500 px\" align=\"left\">"
   ]
  },
  {
   "cell_type": "markdown",
   "metadata": {},
   "source": [
    "# Teach Me Quantum Award 2018: Top Submissions\n",
    "\n",
    "The 'Teach Me Quantum Award' sought out the best lecture materials using Qiskit. For information about the winning submissions, see [here](https://www.ibm.com/blogs/research/2019/01/ibmq-teach-quantum-winners/).\n",
    "\n",
    "In this folder you'll find the winning submissions (numbered below) as well as the other high-quality submissions (bullet points below). Note that these materials were prepared using previous versions of Qiskit. We are working to update them, and would appreciate any feedback on which ones to priortize. So don't be shy, and submit [an issue](https://github.com/Qiskit/qiskit-tutorials/issues) to share your comments.\n",
    "\n",
    "\n",
    "\n",
    "* [Teach Me Quantum](TeachMeQ/README.ipynb) by Miguel Ramalho.\n",
    "\n",
    "* [Quantum Machine Learning](qml_mooc/README.ipynb) by Peter Wittek.\n",
    "\n",
    "* [intro2qc](intro2qc/1.Introduction.ipynb) by Mirko Amico.\n",
    "\n",
    "* [Introduction to Quantum Computing with QISKit - a pratical guide](basic_intro2qc/QuantumComputingIntroduction.ipynb) by Carla Silva, Vanda Azevedo, Diogo Fernandes, and Inês Dutra.\n",
    "\n",
    "* [Bronze: Your First Step to Quantum Programming](bronze/bronze_getting_started.ipynb) by Abuzer Yakaryilmaz, Katrina Kizenbaha and Martins Kalis (QuSoft@Riga).\n"
   ]
  },
  {
   "cell_type": "code",
   "execution_count": null,
   "metadata": {},
   "outputs": [],
   "source": []
  }
 ],
 "metadata": {
  "kernelspec": {
   "display_name": "Python 3",
   "language": "python",
   "name": "python3"
  },
  "language_info": {
   "codemirror_mode": {
    "name": "ipython",
    "version": 3
   },
   "file_extension": ".py",
   "mimetype": "text/x-python",
   "name": "python",
   "nbconvert_exporter": "python",
   "pygments_lexer": "ipython3",
   "version": "3.7.2"
  }
 },
 "nbformat": 4,
 "nbformat_minor": 2
}
