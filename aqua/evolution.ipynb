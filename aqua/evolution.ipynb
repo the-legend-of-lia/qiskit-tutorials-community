{
 "cells": [
  {
   "cell_type": "markdown",
   "metadata": {},
   "source": [
    "## _*Using Qiskit Aqua's quantum evolution functionality*_\n",
    "\n",
    "This notebook demonstrates how to realize quantum evolution using the `Qiskit Aqua` library.\n",
    "\n",
    "Further information is available for the algorithms in the github repo aqua/readme.md\n",
    "\n",
    "First, an WeightedPauliOperator instance is created for our randomly generated Hamiltonian. We also randomly generate an initial quantum state `state_in`."
   ]
  },
  {
   "cell_type": "code",
   "execution_count": null,
   "metadata": {},
   "outputs": [],
   "source": [
    "import numpy as np\n",
    "from scipy.linalg import expm\n",
    "from qiskit import BasicAer\n",
    "from qiskit import execute as q_execute\n",
    "from qiskit import QuantumCircuit, QuantumRegister\n",
    "from qiskit.quantum_info import state_fidelity\n",
    "from qiskit.aqua.operators import MatrixOperator, op_converter\n",
    "from qiskit.aqua.components.initial_states import Custom\n",
    "\n",
    "num_qubits = 2\n",
    "evo_time = 1\n",
    "temp = np.random.random((2 ** num_qubits, 2 ** num_qubits))\n",
    "h1 = temp + temp.T\n",
    "qubitOp = MatrixOperator(matrix=h1)\n",
    "state_in = Custom(num_qubits, state='random')"
   ]
  },
  {
   "cell_type": "markdown",
   "metadata": {},
   "source": [
    "With the operator and the initial state, we can easily compute the groundtruth evolution result as follows."
   ]
  },
  {
   "cell_type": "code",
   "execution_count": 2,
   "metadata": {},
   "outputs": [
    {
     "name": "stdout",
     "output_type": "stream",
     "text": [
      "The directly computed groundtruth evolution result state is\n",
      "[-0.62527859+0.25282122j -0.29631775+0.34469483j -0.0329701 +0.37924966j\n",
      " -0.43234792+0.08153111j].\n"
     ]
    }
   ],
   "source": [
    "state_in_vec = state_in.construct_circuit('vector')\n",
    "groundtruth = expm(-1.j * h1 * evo_time) @ state_in_vec\n",
    "print('The directly computed groundtruth evolution result state is\\n{}.'.format(groundtruth))"
   ]
  },
  {
   "cell_type": "markdown",
   "metadata": {},
   "source": [
    "The `evolve` method as provided by the `MatrixOperator` class also provides the ability to compute the evolution groundtruth via the same matrix and vector multiplication. Therefore, we can also compute the evolution's groundtruth result state as follows, which we can easily verify to be the same as the `groundtruth` we just computed."
   ]
  },
  {
   "cell_type": "code",
   "execution_count": 3,
   "metadata": {},
   "outputs": [
    {
     "name": "stdout",
     "output_type": "stream",
     "text": [
      "The groundtruth evolution result as computed by the Dynamics algorithm is\n",
      "[-0.62527859+0.25282122j -0.29631775+0.34469483j -0.0329701 +0.37924966j\n",
      " -0.43234792+0.08153111j].\n"
     ]
    }
   ],
   "source": [
    "groundtruth_evolution = qubitOp.evolve(state_in_vec, evo_time, num_time_slices=0)\n",
    "print('The groundtruth evolution result as computed by the Dynamics algorithm is\\n{}.'.format(groundtruth_evolution))\n",
    "np.testing.assert_allclose(groundtruth_evolution, groundtruth)"
   ]
  },
  {
   "cell_type": "markdown",
   "metadata": {},
   "source": [
    "Next, let's actually build the quantum circuit, which involves the circuit for putting the system in the specified initial state, and the actual `evolution` circuit corresponding to the operator we generated, for which, let's, for example, use the `3`rd order `suzuki` expansion.\n",
    "\n",
    "Furthermore, we need to convert `MatrixOperator` to `WeightedPauliOperator` to generate circuits for quantum device."
   ]
  },
  {
   "cell_type": "code",
   "execution_count": 4,
   "metadata": {},
   "outputs": [
    {
     "name": "stderr",
     "output_type": "stream",
     "text": [
      "Converting time from a MatrixOperator to a Pauli-type Operator grows exponentially. If you are converting a system with large number of qubits, it will take time. You can turn on DEBUG logging to check the progress.\n"
     ]
    }
   ],
   "source": [
    "qubit_op = op_converter.to_weighted_pauli_operator(qubitOp)\n",
    "\n",
    "quantum_registers = QuantumRegister(qubit_op.num_qubits)\n",
    "circuit = state_in.construct_circuit('circuit', quantum_registers)\n",
    "circuit += qubit_op.evolve(\n",
    "    None, evo_time, num_time_slices=1,\n",
    "    quantum_registers=quantum_registers,\n",
    "    expansion_mode='suzuki',\n",
    "    expansion_order=3\n",
    ")"
   ]
  },
  {
   "cell_type": "code",
   "execution_count": 5,
   "metadata": {},
   "outputs": [
    {
     "data": {
      "image/png": "[encoded data removed]",
      "text/plain": [
       "<Figure size 1064.34x138.46 with 1 Axes>"
      ]
     },
     "execution_count": 5,
     "metadata": {},
     "output_type": "execute_result"
    }
   ],
   "source": [
    "circuit.draw(output='mpl')"
   ]
  },
  {
   "cell_type": "markdown",
   "metadata": {},
   "source": [
    "With the circuit built, we can now execute the circuit to get the evolution result. We use the `statevector_simulator` backend for the purpose of this demonstration."
   ]
  },
  {
   "cell_type": "code",
   "execution_count": 6,
   "metadata": {},
   "outputs": [
    {
     "name": "stdout",
     "output_type": "stream",
     "text": [
      "The evolution result state from executing the Dynamics circuit is\n",
      "[0.36912206+0.56450797j 0.39553492+0.22383261j 0.37840619-0.04130526j\n",
      " 0.16370862+0.4084518j ].\n"
     ]
    }
   ],
   "source": [
    "backend = BasicAer.get_backend('statevector_simulator')\n",
    "job = q_execute(circuit, backend)\n",
    "circuit_execution_result = np.asarray(job.result().get_statevector(circuit))\n",
    "print('The evolution result state from executing the Dynamics circuit is\\n{}.'.format(circuit_execution_result))"
   ]
  },
  {
   "cell_type": "markdown",
   "metadata": {},
   "source": [
    "We can then check the fidelity between the `groundtruth` and the `circuit_execution_result`."
   ]
  },
  {
   "cell_type": "code",
   "execution_count": 7,
   "metadata": {},
   "outputs": [
    {
     "name": "stdout",
     "output_type": "stream",
     "text": [
      "Fidelity between the groundtruth and the circuit result states is 0.9999999421603711.\n"
     ]
    }
   ],
   "source": [
    "print('Fidelity between the groundtruth and the circuit result states is {}.'.format(\n",
    "    state_fidelity(groundtruth, circuit_execution_result)\n",
    "))"
   ]
  },
  {
   "cell_type": "markdown",
   "metadata": {},
   "source": [
    "As seen, the fidelity is very close to `1`, indicating that the quantum circuit produced is a good approximation of the intended evolution."
   ]
  },
  {
   "cell_type": "code",
   "execution_count": null,
   "metadata": {},
   "outputs": [],
   "source": []
  }
 ],
 "metadata": {
  "kernelspec": {
   "display_name": "Quantum (Dev)",
   "language": "python",
   "name": "quantum-dev"
  },
  "language_info": {
   "codemirror_mode": {
    "name": "ipython",
    "version": 3
   },
   "file_extension": ".py",
   "mimetype": "text/x-python",
   "name": "python",
   "nbconvert_exporter": "python",
   "pygments_lexer": "ipython3",
   "version": "3.7.3"
  }
 },
 "nbformat": 4,
 "nbformat_minor": 1
}
